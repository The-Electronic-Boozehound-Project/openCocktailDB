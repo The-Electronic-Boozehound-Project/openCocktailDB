{
 "cells": [
  {
   "cell_type": "markdown",
   "metadata": {},
   "source": [
    "# Python `tinydb` Package\n",
    "\n",
    "## Overview and Introduction\n",
    "The Python `tinydb` package implements a document oriented database on a JSON file. Cannot be used a massive scale, but likely good enough to make this work initially and may be big enough for pretty much everything we need as most ML seems to consume flat files when doing linguistic stuff."
   ]
  },
  {
   "cell_type": "code",
   "execution_count": 1,
   "metadata": {},
   "outputs": [],
   "source": [
    "from tinydb import TinyDB, Query, where"
   ]
  },
  {
   "cell_type": "markdown",
   "metadata": {},
   "source": [
    "First example from [HERE](https://tinydb.readthedocs.io/en/latest/getting-started.html#basic-usage). The `db.truncate()` function call clears the database completely. I needed to add this so that I could re-run this file a few times. Without it entries get written more than once to the file. On adding, every entry gets a unique identifier so it is possible to have multiple copies of the same entry.\n",
    "\n",
    "### Create a Database (and Clear It)"
   ]
  },
  {
   "cell_type": "code",
   "execution_count": 2,
   "metadata": {},
   "outputs": [],
   "source": [
    "db = TinyDB('db.json')\n",
    "db.truncate()              # Clear the DB"
   ]
  },
  {
   "cell_type": "markdown",
   "metadata": {},
   "source": [
    "Insert a few items as a test:"
   ]
  },
  {
   "cell_type": "code",
   "execution_count": 3,
   "metadata": {},
   "outputs": [
    {
     "data": {
      "text/plain": [
       "4"
      ]
     },
     "execution_count": 3,
     "metadata": {},
     "output_type": "execute_result"
    }
   ],
   "source": [
    "db.insert({'type': 'apple', 'count': 7})\n",
    "db.insert({'type': 'peach', 'count': 3})\n",
    "db.insert({'type': 'pear', 'count': 3})\n",
    "db.insert({'type': 'banana', 'count': 12})"
   ]
  },
  {
   "cell_type": "code",
   "execution_count": 4,
   "metadata": {},
   "outputs": [
    {
     "data": {
      "text/plain": [
       "[{'type': 'apple', 'count': 7},\n",
       " {'type': 'peach', 'count': 3},\n",
       " {'type': 'pear', 'count': 3},\n",
       " {'type': 'banana', 'count': 12}]"
      ]
     },
     "execution_count": 4,
     "metadata": {},
     "output_type": "execute_result"
    }
   ],
   "source": [
    "db.all()"
   ]
  },
  {
   "cell_type": "markdown",
   "metadata": {},
   "source": [
    "Databases are iterables (`iter(db)`):"
   ]
  },
  {
   "cell_type": "code",
   "execution_count": 5,
   "metadata": {},
   "outputs": [
    {
     "name": "stdout",
     "output_type": "stream",
     "text": [
      "{'type': 'apple', 'count': 7}\n",
      "{'type': 'peach', 'count': 3}\n",
      "{'type': 'pear', 'count': 3}\n",
      "{'type': 'banana', 'count': 12}\n"
     ]
    }
   ],
   "source": [
    "for item in db:\n",
    "    print(item)"
   ]
  },
  {
   "cell_type": "code",
   "execution_count": 6,
   "metadata": {},
   "outputs": [
    {
     "name": "stdout",
     "output_type": "stream",
     "text": [
      "apple\n",
      "peach\n",
      "pear\n",
      "banana\n"
     ]
    }
   ],
   "source": [
    "for item in db:\n",
    "    print(item['type'])"
   ]
  },
  {
   "cell_type": "markdown",
   "metadata": {},
   "source": [
    "### Query Objects\n",
    "Make a new `Query` object. Not sure how this works yet. Compare with `where()` function in the section below."
   ]
  },
  {
   "cell_type": "code",
   "execution_count": 7,
   "metadata": {},
   "outputs": [],
   "source": [
    "Fruit = Query()"
   ]
  },
  {
   "cell_type": "code",
   "execution_count": 8,
   "metadata": {},
   "outputs": [
    {
     "data": {
      "text/plain": [
       "[{'type': 'peach', 'count': 3}]"
      ]
     },
     "execution_count": 8,
     "metadata": {},
     "output_type": "execute_result"
    }
   ],
   "source": [
    "db.search(Fruit.type == 'peach')"
   ]
  },
  {
   "cell_type": "code",
   "execution_count": 9,
   "metadata": {},
   "outputs": [
    {
     "data": {
      "text/plain": [
       "[]"
      ]
     },
     "execution_count": 9,
     "metadata": {},
     "output_type": "execute_result"
    }
   ],
   "source": [
    "db.search(Fruit.count == 5)      # Matches nothing"
   ]
  },
  {
   "cell_type": "code",
   "execution_count": 10,
   "metadata": {},
   "outputs": [
    {
     "data": {
      "text/plain": [
       "[{'type': 'peach', 'count': 3}, {'type': 'pear', 'count': 3}]"
      ]
     },
     "execution_count": 10,
     "metadata": {},
     "output_type": "execute_result"
    }
   ],
   "source": [
    "db.search(Fruit.count == 3)"
   ]
  },
  {
   "cell_type": "markdown",
   "metadata": {},
   "source": [
    "### Update Entries\n",
    "Update some items, make other changes. Uses `Query()` objects."
   ]
  },
  {
   "cell_type": "code",
   "execution_count": 11,
   "metadata": {},
   "outputs": [
    {
     "data": {
      "text/plain": [
       "[{'type': 'apple', 'count': 7},\n",
       " {'type': 'peach', 'count': 3},\n",
       " {'type': 'pear', 'count': 3},\n",
       " {'type': 'banana', 'count': 12}]"
      ]
     },
     "execution_count": 11,
     "metadata": {},
     "output_type": "execute_result"
    }
   ],
   "source": [
    "db.all()"
   ]
  },
  {
   "cell_type": "code",
   "execution_count": 12,
   "metadata": {},
   "outputs": [
    {
     "data": {
      "text/plain": [
       "[1]"
      ]
     },
     "execution_count": 12,
     "metadata": {},
     "output_type": "execute_result"
    }
   ],
   "source": [
    "db.update({'count': 10}, Fruit.type == 'apple')   # Change apple count to 10"
   ]
  },
  {
   "cell_type": "code",
   "execution_count": 13,
   "metadata": {},
   "outputs": [
    {
     "data": {
      "text/plain": [
       "[{'type': 'apple', 'count': 10},\n",
       " {'type': 'peach', 'count': 3},\n",
       " {'type': 'pear', 'count': 3},\n",
       " {'type': 'banana', 'count': 12}]"
      ]
     },
     "execution_count": 13,
     "metadata": {},
     "output_type": "execute_result"
    }
   ],
   "source": [
    "db.all()"
   ]
  },
  {
   "cell_type": "markdown",
   "metadata": {},
   "source": [
    "Using the `query` object, we will get rid of all items with fewer than 5 items (so the peaches!):"
   ]
  },
  {
   "cell_type": "code",
   "execution_count": 14,
   "metadata": {},
   "outputs": [
    {
     "data": {
      "text/plain": [
       "[2, 3]"
      ]
     },
     "execution_count": 14,
     "metadata": {},
     "output_type": "execute_result"
    }
   ],
   "source": [
    "db.remove(Fruit.count < 5)"
   ]
  },
  {
   "cell_type": "code",
   "execution_count": 15,
   "metadata": {},
   "outputs": [
    {
     "name": "stdout",
     "output_type": "stream",
     "text": [
      "{'type': 'apple', 'count': 10}\n",
      "{'type': 'banana', 'count': 12}\n"
     ]
    }
   ],
   "source": [
    "for item in db:\n",
    "    print(item)"
   ]
  },
  {
   "cell_type": "markdown",
   "metadata": {},
   "source": [
    "### Clear the Entire Database\n",
    "To clear the whole database use `truncate` (why truncate?):"
   ]
  },
  {
   "cell_type": "code",
   "execution_count": 16,
   "metadata": {},
   "outputs": [
    {
     "data": {
      "text/plain": [
       "[]"
      ]
     },
     "execution_count": 16,
     "metadata": {},
     "output_type": "execute_result"
    }
   ],
   "source": [
    "db.truncate()\n",
    "db.all()"
   ]
  },
  {
   "cell_type": "markdown",
   "metadata": {},
   "source": [
    "## Review of Basic Commands\n",
    "Here is a summary of what we did so far (copied from [HERE](https://tinydb.readthedocs.io/en/latest/getting-started.html#basic-usage)):\n",
    "\n",
    "| Syntax | Description |\n",
    "| ------: | :----------- |\n",
    "| `db.insert(...)` | Insert a document |\n",
    "| `db.all()` | Return all documents in the database as a list |\n",
    "| `iter(db)` | Iterate over all documents in the database |\n",
    "| `x = Query()` | Create a new `Query()` object |\n",
    "| `Query().field == y` | Match documents with `field` equals `y` (usual comparisons work: `!=`, `>`, `>=`, `<`, `<=`) |\n",
    "| `db.search(query)` | Use the `Query()` object to do a search for matches (`Query.field == Target`) |\n",
    "| `db.update(fields, query)` | Update all corresponding `fields` in documents matching the `query` |\n",
    "| `db.remove(query)` | Remove all documents matching the `query` |\n",
    "| `db.truncate()` | Remove all documents in the database |\n",
    "\n",
    "## \"Advanced\" Usage\n",
    "Moving on to more advanced usage. See [HERE](https://tinydb.readthedocs.io/en/latest/usage.html) for details.\n",
    "\n",
    "### Advanced Searching (Two Forms)\n",
    "We will explore basic searching using a simple test database, created here:"
   ]
  },
  {
   "cell_type": "code",
   "execution_count": 17,
   "metadata": {},
   "outputs": [],
   "source": [
    "ndb = TinyDB('users.json')\n",
    "ndb.truncate()               # Added this to clean the DB on re-running the code!"
   ]
  },
  {
   "cell_type": "code",
   "execution_count": 18,
   "metadata": {},
   "outputs": [
    {
     "data": {
      "text/plain": [
       "4"
      ]
     },
     "execution_count": 18,
     "metadata": {},
     "output_type": "execute_result"
    }
   ],
   "source": [
    "ndb.insert({'name':'David Jones', 'birthday':{'month':'january', 'day': 12, 'year': 1990}})\n",
    "ndb.insert({'name':'David Melbourne', 'birthday':{'month':'february', 'day': 19, 'year': 1971}})\n",
    "ndb.insert({'name':'Mufti Jones', 'birthday':{'month':'december', 'day': 30, 'year': 1981}})\n",
    "ndb.insert({'name':'dane double', 'birthday':{'month':'june', 'day': 22, 'year': 1977}})"
   ]
  },
  {
   "cell_type": "code",
   "execution_count": 19,
   "metadata": {},
   "outputs": [
    {
     "data": {
      "text/plain": [
       "[{'name': 'David Jones',\n",
       "  'birthday': {'month': 'january', 'day': 12, 'year': 1990}},\n",
       " {'name': 'David Melbourne',\n",
       "  'birthday': {'month': 'february', 'day': 19, 'year': 1971}},\n",
       " {'name': 'Mufti Jones',\n",
       "  'birthday': {'month': 'december', 'day': 30, 'year': 1981}},\n",
       " {'name': 'dane double',\n",
       "  'birthday': {'month': 'june', 'day': 22, 'year': 1977}}]"
      ]
     },
     "execution_count": 19,
     "metadata": {},
     "output_type": "execute_result"
    }
   ],
   "source": [
    "ndb.all()"
   ]
  },
  {
   "cell_type": "markdown",
   "metadata": {},
   "source": [
    "#### Searching Using Query Objects\n",
    "Start with advanced queries. Note that all DB fields should be valid Python identifiers so that the `Query.field` notation can be used; if not, `Query['field'] = value` is available as an alternative!\n",
    "\n",
    "Search using a query:"
   ]
  },
  {
   "cell_type": "code",
   "execution_count": 20,
   "metadata": {},
   "outputs": [],
   "source": [
    "User = Query()"
   ]
  },
  {
   "cell_type": "code",
   "execution_count": 21,
   "metadata": {},
   "outputs": [
    {
     "data": {
      "text/plain": [
       "[{'name': 'David Jones',\n",
       "  'birthday': {'month': 'january', 'day': 12, 'year': 1990}}]"
      ]
     },
     "execution_count": 21,
     "metadata": {},
     "output_type": "execute_result"
    }
   ],
   "source": [
    "ndb.search(User.name == 'David Jones')"
   ]
  },
  {
   "cell_type": "code",
   "execution_count": 22,
   "metadata": {},
   "outputs": [
    {
     "data": {
      "text/plain": [
       "[{'name': 'David Jones',\n",
       "  'birthday': {'month': 'january', 'day': 12, 'year': 1990}}]"
      ]
     },
     "execution_count": 22,
     "metadata": {},
     "output_type": "execute_result"
    }
   ],
   "source": [
    "ndb.search(User.birthday.year == 1990)"
   ]
  },
  {
   "cell_type": "code",
   "execution_count": 23,
   "metadata": {},
   "outputs": [
    {
     "data": {
      "text/plain": [
       "[{'name': 'Mufti Jones',\n",
       "  'birthday': {'month': 'december', 'day': 30, 'year': 1981}}]"
      ]
     },
     "execution_count": 23,
     "metadata": {},
     "output_type": "execute_result"
    }
   ],
   "source": [
    "ndb.search(User.birthday.month == 'december')"
   ]
  },
  {
   "cell_type": "markdown",
   "metadata": {},
   "source": [
    "#### Searching Using the `where()` Function\n",
    "Search using the `where()` function (imported at top). This is a more traditional construct for searching. Less ORM."
   ]
  },
  {
   "cell_type": "code",
   "execution_count": 24,
   "metadata": {},
   "outputs": [
    {
     "data": {
      "text/plain": [
       "[{'name': 'David Jones',\n",
       "  'birthday': {'month': 'january', 'day': 12, 'year': 1990}}]"
      ]
     },
     "execution_count": 24,
     "metadata": {},
     "output_type": "execute_result"
    }
   ],
   "source": [
    "ndb.search(where('name') == 'David Jones')"
   ]
  },
  {
   "cell_type": "code",
   "execution_count": 25,
   "metadata": {},
   "outputs": [
    {
     "data": {
      "text/plain": [
       "[{'name': 'David Melbourne',\n",
       "  'birthday': {'month': 'february', 'day': 19, 'year': 1971}}]"
      ]
     },
     "execution_count": 25,
     "metadata": {},
     "output_type": "execute_result"
    }
   ],
   "source": [
    "ndb.search(where('birthday')['month'] == 'february')"
   ]
  },
  {
   "cell_type": "markdown",
   "metadata": {},
   "source": [
    "Compare this to the `Query['field'] = value` format mentioned above. Note that `where()` is essentially syntactic sugar for:\n",
    "\n",
    "```Python\n",
    "db.search(Query()['field'] == 'value')\n",
    "```\n",
    "#### Advanced Queries/Searches\n",
    "These will show ways to build more complex search structures and use the `Query()` function format."
   ]
  },
  {
   "cell_type": "code",
   "execution_count": 26,
   "metadata": {},
   "outputs": [
    {
     "data": {
      "text/plain": [
       "[{'name': 'David Jones',\n",
       "  'birthday': {'month': 'january', 'day': 12, 'year': 1990}},\n",
       " {'name': 'David Melbourne',\n",
       "  'birthday': {'month': 'february', 'day': 19, 'year': 1971}},\n",
       " {'name': 'Mufti Jones',\n",
       "  'birthday': {'month': 'december', 'day': 30, 'year': 1981}},\n",
       " {'name': 'dane double',\n",
       "  'birthday': {'month': 'june', 'day': 22, 'year': 1977}}]"
      ]
     },
     "execution_count": 26,
     "metadata": {},
     "output_type": "execute_result"
    }
   ],
   "source": [
    "ndb.search(User.name.exists())"
   ]
  },
  {
   "cell_type": "markdown",
   "metadata": {},
   "source": [
    "The example below uses something from the `re` package. It is set in the `flags` options:"
   ]
  },
  {
   "cell_type": "code",
   "execution_count": 27,
   "metadata": {},
   "outputs": [
    {
     "data": {
      "text/plain": [
       "[{'name': 'David Jones',\n",
       "  'birthday': {'month': 'january', 'day': 12, 'year': 1990}}]"
      ]
     },
     "execution_count": 27,
     "metadata": {},
     "output_type": "execute_result"
    }
   ],
   "source": [
    "import re\n",
    "ndb.search(User.name.matches('david JONES', flags=re.IGNORECASE))"
   ]
  },
  {
   "cell_type": "markdown",
   "metadata": {},
   "source": [
    "The method `.matches()` requires a whole string match. \n",
    "\n",
    "There are some other `re` tricks, using the `.search()` method that looks for **substring** matches in the fields:"
   ]
  },
  {
   "cell_type": "code",
   "execution_count": 28,
   "metadata": {},
   "outputs": [
    {
     "data": {
      "text/plain": [
       "[{'name': 'David Jones',\n",
       "  'birthday': {'month': 'january', 'day': 12, 'year': 1990}},\n",
       " {'name': 'David Melbourne',\n",
       "  'birthday': {'month': 'february', 'day': 19, 'year': 1971}}]"
      ]
     },
     "execution_count": 28,
     "metadata": {},
     "output_type": "execute_result"
    }
   ],
   "source": [
    "ndb.search(User.name.search('david', flags=re.IGNORECASE))"
   ]
  },
  {
   "cell_type": "markdown",
   "metadata": {},
   "source": [
    "The `flags=re.IGNORECASE` option seems to work with **strings** as the search term, but not with regular expressions."
   ]
  },
  {
   "cell_type": "code",
   "execution_count": 29,
   "metadata": {},
   "outputs": [
    {
     "data": {
      "text/plain": [
       "[{'name': 'David Melbourne',\n",
       "  'birthday': {'month': 'february', 'day': 19, 'year': 1971}},\n",
       " {'name': 'dane double',\n",
       "  'birthday': {'month': 'june', 'day': 22, 'year': 1977}}]"
      ]
     },
     "execution_count": 29,
     "metadata": {},
     "output_type": "execute_result"
    }
   ],
   "source": [
    "ndb.search(User.name.search('b+'))     # Search for names with at least one \"b\" in a substring"
   ]
  },
  {
   "cell_type": "markdown",
   "metadata": {},
   "source": [
    "Unfortunately the `flags=re.IGNORECASE` seems to be broken in the `.search()` method:"
   ]
  },
  {
   "cell_type": "code",
   "execution_count": 30,
   "metadata": {},
   "outputs": [
    {
     "data": {
      "text/plain": [
       "[{'name': 'David Jones',\n",
       "  'birthday': {'month': 'january', 'day': 12, 'year': 1990}},\n",
       " {'name': 'David Melbourne',\n",
       "  'birthday': {'month': 'february', 'day': 19, 'year': 1971}}]"
      ]
     },
     "execution_count": 30,
     "metadata": {},
     "output_type": "execute_result"
    }
   ],
   "source": [
    "ndb.search(User.name.search('D'))  # Note that this is **not** case insensitive"
   ]
  },
  {
   "cell_type": "code",
   "execution_count": 31,
   "metadata": {},
   "outputs": [
    {
     "data": {
      "text/plain": [
       "[{'name': 'David Jones',\n",
       "  'birthday': {'month': 'january', 'day': 12, 'year': 1990}},\n",
       " {'name': 'David Melbourne',\n",
       "  'birthday': {'month': 'february', 'day': 19, 'year': 1971}}]"
      ]
     },
     "execution_count": 31,
     "metadata": {},
     "output_type": "execute_result"
    }
   ],
   "source": [
    "ndb.search(User.name.search('D', flags=re.IGNORECASE))"
   ]
  },
  {
   "cell_type": "markdown",
   "metadata": {},
   "source": [
    "And yet:"
   ]
  },
  {
   "cell_type": "code",
   "execution_count": 32,
   "metadata": {},
   "outputs": [
    {
     "data": {
      "text/plain": [
       "[{'name': 'David Jones',\n",
       "  'birthday': {'month': 'january', 'day': 12, 'year': 1990}},\n",
       " {'name': 'David Melbourne',\n",
       "  'birthday': {'month': 'february', 'day': 19, 'year': 1971}},\n",
       " {'name': 'dane double',\n",
       "  'birthday': {'month': 'june', 'day': 22, 'year': 1977}}]"
      ]
     },
     "execution_count": 32,
     "metadata": {},
     "output_type": "execute_result"
    }
   ],
   "source": [
    "ndb.search(User.name.search('d'))"
   ]
  },
  {
   "cell_type": "code",
   "execution_count": 33,
   "metadata": {},
   "outputs": [
    {
     "data": {
      "text/plain": [
       "[{'name': 'David Jones',\n",
       "  'birthday': {'month': 'january', 'day': 12, 'year': 1990}},\n",
       " {'name': 'David Melbourne',\n",
       "  'birthday': {'month': 'february', 'day': 19, 'year': 1971}},\n",
       " {'name': 'dane double',\n",
       "  'birthday': {'month': 'june', 'day': 22, 'year': 1977}}]"
      ]
     },
     "execution_count": 33,
     "metadata": {},
     "output_type": "execute_result"
    }
   ],
   "source": [
    "ndb.search(User.name.search('[dD]'))"
   ]
  },
  {
   "cell_type": "markdown",
   "metadata": {},
   "source": [
    "This seems to be a bug? Or there is a rule about lowercase being more generic than uppercase?\n",
    "\n",
    "I really don't understand this yet."
   ]
  },
  {
   "cell_type": "markdown",
   "metadata": {},
   "source": [
    "Test functions:"
   ]
  },
  {
   "cell_type": "code",
   "execution_count": 34,
   "metadata": {},
   "outputs": [],
   "source": [
    "test_func = lambda s: s == 'David Melbourne'"
   ]
  },
  {
   "cell_type": "code",
   "execution_count": 35,
   "metadata": {},
   "outputs": [
    {
     "data": {
      "text/plain": [
       "[{'name': 'David Melbourne',\n",
       "  'birthday': {'month': 'february', 'day': 19, 'year': 1971}}]"
      ]
     },
     "execution_count": 35,
     "metadata": {},
     "output_type": "execute_result"
    }
   ],
   "source": [
    "ndb.search(User.name.test(test_func))"
   ]
  },
  {
   "cell_type": "code",
   "execution_count": 36,
   "metadata": {},
   "outputs": [],
   "source": [
    "def new_test_func(s):\n",
    "    return \"david melbourne\" == s.lower()   # Need return for this form of function definition"
   ]
  },
  {
   "cell_type": "code",
   "execution_count": 37,
   "metadata": {},
   "outputs": [
    {
     "data": {
      "text/plain": [
       "True"
      ]
     },
     "execution_count": 37,
     "metadata": {},
     "output_type": "execute_result"
    }
   ],
   "source": [
    "new_test_func(\"David Melbourne\")"
   ]
  },
  {
   "cell_type": "code",
   "execution_count": 38,
   "metadata": {},
   "outputs": [
    {
     "data": {
      "text/plain": [
       "[{'name': 'David Melbourne',\n",
       "  'birthday': {'month': 'february', 'day': 19, 'year': 1971}}]"
      ]
     },
     "execution_count": 38,
     "metadata": {},
     "output_type": "execute_result"
    }
   ],
   "source": [
    "ndb.search(User.name.test(new_test_func))"
   ]
  },
  {
   "cell_type": "markdown",
   "metadata": {},
   "source": [
    "Searching using regular expressions. I am not very good with these, but let's see:"
   ]
  },
  {
   "cell_type": "code",
   "execution_count": 39,
   "metadata": {},
   "outputs": [
    {
     "data": {
      "text/plain": [
       "5"
      ]
     },
     "execution_count": 39,
     "metadata": {},
     "output_type": "execute_result"
    }
   ],
   "source": [
    "# re was imported above\n",
    "\n",
    "ndb.insert({'name':'BBBBB', 'birthday':{'month':'june', 'day': 11, 'year': 1977}})"
   ]
  },
  {
   "cell_type": "markdown",
   "metadata": {},
   "source": [
    "The following should be equivalent:"
   ]
  },
  {
   "cell_type": "code",
   "execution_count": 40,
   "metadata": {},
   "outputs": [
    {
     "data": {
      "text/plain": [
       "[{'name': 'David Melbourne',\n",
       "  'birthday': {'month': 'february', 'day': 19, 'year': 1971}},\n",
       " {'name': 'dane double',\n",
       "  'birthday': {'month': 'june', 'day': 22, 'year': 1977}},\n",
       " {'name': 'BBBBB', 'birthday': {'month': 'june', 'day': 11, 'year': 1977}}]"
      ]
     },
     "execution_count": 40,
     "metadata": {},
     "output_type": "execute_result"
    }
   ],
   "source": [
    "ndb.search(User.name.search('b+', flags=re.IGNORECASE))"
   ]
  },
  {
   "cell_type": "code",
   "execution_count": 41,
   "metadata": {},
   "outputs": [
    {
     "data": {
      "text/plain": [
       "[{'name': 'David Melbourne',\n",
       "  'birthday': {'month': 'february', 'day': 19, 'year': 1971}},\n",
       " {'name': 'dane double',\n",
       "  'birthday': {'month': 'june', 'day': 22, 'year': 1977}},\n",
       " {'name': 'BBBBB', 'birthday': {'month': 'june', 'day': 11, 'year': 1977}}]"
      ]
     },
     "execution_count": 41,
     "metadata": {},
     "output_type": "execute_result"
    }
   ],
   "source": [
    "ndb.search(User.name.search('B+', flags=re.IGNORECASE))"
   ]
  },
  {
   "cell_type": "code",
   "execution_count": 42,
   "metadata": {},
   "outputs": [
    {
     "data": {
      "text/plain": [
       "[{'name': 'David Melbourne',\n",
       "  'birthday': {'month': 'february', 'day': 19, 'year': 1971}},\n",
       " {'name': 'dane double',\n",
       "  'birthday': {'month': 'june', 'day': 22, 'year': 1977}},\n",
       " {'name': 'BBBBB', 'birthday': {'month': 'june', 'day': 11, 'year': 1977}}]"
      ]
     },
     "execution_count": 42,
     "metadata": {},
     "output_type": "execute_result"
    }
   ],
   "source": [
    "ndb.search(User.name.search('[bB]+'))"
   ]
  },
  {
   "cell_type": "markdown",
   "metadata": {},
   "source": [
    "## Using Lists as Fields in the JSON\n",
    "The main reason I want to use JSON and a document oriented database is to allow lists of ingredients for the spec of a cocktail.\n",
    "\n",
    "In Python specs are held as `dict` objects and they get serialized to JSON easily. So here are some tests with lists.\n",
    "\n",
    "With lists, you can use the `any()` and `all()` methods for search.\n",
    "\n",
    "### Cocktail DB Spec (Test)"
   ]
  },
  {
   "cell_type": "code",
   "execution_count": 43,
   "metadata": {},
   "outputs": [],
   "source": [
    "cocktailDB = TinyDB('cocktailDB.json')\n",
    "cocktailDB.truncate()   "
   ]
  },
  {
   "cell_type": "markdown",
   "metadata": {},
   "source": [
    "Here is the prototype JSON for the DB Specs:\n",
    "\n",
    "+ name: Cocktail Name.\n",
    "+ creator: Cocktail Creator (if known).\n",
    "+ source: Original source of spec.\n",
    "+ url: URL.\n",
    "+ didactic: Recipe, didactic.\n",
    "+ standardized: Recipe, standardized.\n",
    "+ codexClass: Generic cocktail class. (Type of cocktail, generally, following Cocktail Codex: Old Fashioned, Martini, Daiquiri, Sidecar, Highball, Flip. Allow `None` or `Nil`.)\n",
    "+ genericProcess: Generic process class. (Process class: built, stirred (built), stirred (mixing glass), shaken, blended, flash blended.)\n",
    "+ genericComponent: Generic component list (serialized).\n",
    "+ brandComponent: Preferred component list, when relevant, allow `None` or `Nil`.\n",
    "+ milliters: Component amounts, in millitres. (Per IBA.)\n",
    "+ glassware: Glassware.\n",
    "+ localAuthority: Author (local authority for spec).\n",
    "\n",
    "Measurements are a problem; we set target measurements to **ml**. However, converting measures from dashes to ml is a problem. But we do not want a free-for-all! "
   ]
  },
  {
   "cell_type": "code",
   "execution_count": 44,
   "metadata": {},
   "outputs": [
    {
     "data": {
      "text/plain": [
       "3"
      ]
     },
     "execution_count": 44,
     "metadata": {},
     "output_type": "execute_result"
    }
   ],
   "source": [
    "cocktailDB.insert({'name': 'Old Fashioned',\n",
    "                   'codexClass': 'Old Fashioned',\n",
    "                   'genericProcess': 'built',\n",
    "                   'genericComponent': ['bourbon', 'water', 'bitters', 'sugar'],\n",
    "                   'measurementUnits': ['ml', 'ml', 'dash', 'ml'],\n",
    "                   'measurementValues': [60, 5, 3, 5],\n",
    "                   'brandComponent': ['Old Grand-Dad', None, 'Angostura', None],\n",
    "                   'didacticRecipe': 'Muddle bitters and sugar in glass. Add bourbon and ice (preferably one large cube) and stir. Garnish.',\n",
    "                   'garnish': 'Orange Peel',\n",
    "                   'glassware': 'double old fashioned glass',\n",
    "                   'ibaSpecExists': True,\n",
    "                   'ibaSpecHere': False,\n",
    "                   'creator': 'temps immémorial',\n",
    "                   'wikiUrl': 'https://en.wikipedia.org/wiki/Old_fashioned_(cocktail)',\n",
    "                   'url': 'https://www.liquor.com/recipes/bourbon-old-fashioned/',\n",
    "                   'sourceAuthority': 'liquor.com',\n",
    "                   'localAuthority': 'doctorambient'\n",
    "                  })\n",
    "cocktailDB.insert({'name': 'Suffering Bastard (1942)',\n",
    "                   'codexClass': 'Sidecar',\n",
    "                   'genericProcess': 'shaken',\n",
    "                   'genericComponent': ['brandy', 'gin', 'lime juice', 'bitters', 'ginger beer'],\n",
    "                   'measurementUnits': ['ml', 'ml', 'ml', 'dash', 'top'],\n",
    "                   'measurementValues': [30, 30, 15, 2, 1],\n",
    "                   'brandComponent': [None, None, None, 'Angostura', 'Fever Tree Ginger Beer'],\n",
    "                   'didacticRecipe': 'Combine ingredients and shake; dump with gated finish.',\n",
    "                   'garnish': 'Mint Sprig',\n",
    "                   'glassware': 'Suffering Bastard Mug',\n",
    "                   'ibaSpecExists': True,\n",
    "                   'ibaSpecHere': True,\n",
    "                   'creator': 'Joe Scialom',\n",
    "                   'wikiUrl': 'https://en.wikipedia.org/wiki/Suffering_Bastard',\n",
    "                   'url': 'https://www.liquor.com/recipes/suffering-bastard/',\n",
    "                   'sourceAuthority': 'liquor.com',\n",
    "                   'localAuthority': 'doctorambient'\n",
    "                  })\n",
    "cocktailDB.insert({'name': 'Gimlet (Fresh)',\n",
    "                   'codexClass': 'Daiquiri',\n",
    "                   'genericProcess': 'shaken',\n",
    "                   'genericComponent': ['gin', 'lime juice', 'simple syrup'],\n",
    "                   'measurementUnits': ['ml', 'ml', 'ml'],\n",
    "                   'measurementValues': [60, 30, 22],\n",
    "                   'brandComponent': ['Plymouth Gin', None, None],\n",
    "                   'didacticRecipe': 'Combine ingredients and shake; double strain. Served up.',\n",
    "                   'garnish': None,\n",
    "                   'glassware': 'Nick and Nora',\n",
    "                   'ibaSpecExists': False,\n",
    "                   'creator': 'temps immémorial (1928)',\n",
    "                   'wikiUrl': 'https://en.wikipedia.org/wiki/Gimlet_(cocktail)',\n",
    "                   'url': None,\n",
    "                   'altUrl': 'https://www.liquor.com/recipes/gimlet/',\n",
    "                   'sourceAuthority': 'Cocktail Codex',\n",
    "                   'sourceReference': 115,\n",
    "                   'localAuthority': 'doctorambient'\n",
    "                  })"
   ]
  },
  {
   "cell_type": "code",
   "execution_count": 45,
   "metadata": {},
   "outputs": [
    {
     "data": {
      "text/plain": [
       "[{'name': 'Old Fashioned',\n",
       "  'codexClass': 'Old Fashioned',\n",
       "  'genericProcess': 'built',\n",
       "  'genericComponent': ['bourbon', 'water', 'bitters', 'sugar'],\n",
       "  'measurementUnits': ['ml', 'ml', 'dash', 'ml'],\n",
       "  'measurementValues': [60, 5, 3, 5],\n",
       "  'brandComponent': ['Old Grand-Dad', None, 'Angostura', None],\n",
       "  'didacticRecipe': 'Muddle bitters and sugar in glass. Add bourbon and ice (preferably one large cube) and stir. Garnish.',\n",
       "  'garnish': 'Orange Peel',\n",
       "  'glassware': 'double old fashioned glass',\n",
       "  'ibaSpecExists': True,\n",
       "  'ibaSpecHere': False,\n",
       "  'creator': 'temps immémorial',\n",
       "  'wikiUrl': 'https://en.wikipedia.org/wiki/Old_fashioned_(cocktail)',\n",
       "  'url': 'https://www.liquor.com/recipes/bourbon-old-fashioned/',\n",
       "  'sourceAuthority': 'liquor.com',\n",
       "  'localAuthority': 'doctorambient'},\n",
       " {'name': 'Suffering Bastard (1942)',\n",
       "  'codexClass': 'Sidecar',\n",
       "  'genericProcess': 'shaken',\n",
       "  'genericComponent': ['brandy',\n",
       "   'gin',\n",
       "   'lime juice',\n",
       "   'bitters',\n",
       "   'ginger beer'],\n",
       "  'measurementUnits': ['ml', 'ml', 'ml', 'dash', 'top'],\n",
       "  'measurementValues': [30, 30, 15, 2, 1],\n",
       "  'brandComponent': [None, None, None, 'Angostura', 'Fever Tree Ginger Beer'],\n",
       "  'didacticRecipe': 'Combine ingredients and shake; dump with gated finish.',\n",
       "  'garnish': 'Mint Sprig',\n",
       "  'glassware': 'Suffering Bastard Mug',\n",
       "  'ibaSpecExists': True,\n",
       "  'ibaSpecHere': True,\n",
       "  'creator': 'Joe Scialom',\n",
       "  'wikiUrl': 'https://en.wikipedia.org/wiki/Suffering_Bastard',\n",
       "  'url': 'https://www.liquor.com/recipes/suffering-bastard/',\n",
       "  'sourceAuthority': 'liquor.com',\n",
       "  'localAuthority': 'doctorambient'},\n",
       " {'name': 'Gimlet (Fresh)',\n",
       "  'codexClass': 'Daiquiri',\n",
       "  'genericProcess': 'shaken',\n",
       "  'genericComponent': ['gin', 'lime juice', 'simple syrup'],\n",
       "  'measurementUnits': ['ml', 'ml', 'ml'],\n",
       "  'measurementValues': [60, 30, 22],\n",
       "  'brandComponent': ['Plymouth Gin', None, None],\n",
       "  'didacticRecipe': 'Combine ingredients and shake; double strain. Served up.',\n",
       "  'garnish': None,\n",
       "  'glassware': 'Nick and Nora',\n",
       "  'ibaSpecExists': False,\n",
       "  'creator': 'temps immémorial (1928)',\n",
       "  'wikiUrl': 'https://en.wikipedia.org/wiki/Gimlet_(cocktail)',\n",
       "  'url': None,\n",
       "  'altUrl': 'https://www.liquor.com/recipes/gimlet/',\n",
       "  'sourceAuthority': 'Cocktail Codex',\n",
       "  'sourceReference': 115,\n",
       "  'localAuthority': 'doctorambient'}]"
      ]
     },
     "execution_count": 45,
     "metadata": {},
     "output_type": "execute_result"
    }
   ],
   "source": [
    "cocktailDB.all()"
   ]
  },
  {
   "cell_type": "markdown",
   "metadata": {},
   "source": [
    "Aside some examples of iteration and accessing fields:"
   ]
  },
  {
   "cell_type": "code",
   "execution_count": 46,
   "metadata": {},
   "outputs": [
    {
     "name": "stdout",
     "output_type": "stream",
     "text": [
      "                      Old Fashioned\tOrange Peel\n",
      "           Suffering Bastard (1942)\tMint Sprig\n",
      "                     Gimlet (Fresh)\tNone\n"
     ]
    }
   ],
   "source": [
    "for spec in cocktailDB:\n",
    "    print('{:>35}\\t{}'.format(spec['name'], spec['garnish']))"
   ]
  },
  {
   "cell_type": "code",
   "execution_count": 47,
   "metadata": {},
   "outputs": [
    {
     "name": "stdout",
     "output_type": "stream",
     "text": [
      "<class 'tinydb.table.Document'>\n",
      "<class 'tinydb.table.Document'>\n",
      "<class 'tinydb.table.Document'>\n"
     ]
    }
   ],
   "source": [
    "for spec in cocktailDB:\n",
    "    print(type(spec))"
   ]
  },
  {
   "cell_type": "code",
   "execution_count": 48,
   "metadata": {},
   "outputs": [
    {
     "name": "stdout",
     "output_type": "stream",
     "text": [
      " Suffering Bastard (1942):\t['brandy', 'gin', 'lime juice', 'bitters', 'ginger beer']\n",
      "           Gimlet (Fresh):\t['gin', 'lime juice', 'simple syrup']\n"
     ]
    }
   ],
   "source": [
    "Drink = Query()   # Create a new Query object as before\n",
    "\n",
    "for spec in cocktailDB.search(Drink.genericProcess == 'shaken'):\n",
    "    print('{:>25}:\\t{}'.format(spec['name'], spec['genericComponent']))"
   ]
  },
  {
   "cell_type": "markdown",
   "metadata": {},
   "source": [
    "Some queries:"
   ]
  },
  {
   "cell_type": "code",
   "execution_count": 49,
   "metadata": {},
   "outputs": [],
   "source": [
    "Drink = Query()"
   ]
  },
  {
   "cell_type": "code",
   "execution_count": 50,
   "metadata": {},
   "outputs": [
    {
     "name": "stdout",
     "output_type": "stream",
     "text": [
      "1\n",
      "Old Fashioned\n"
     ]
    }
   ],
   "source": [
    "# Search for bourbon based drinks:\n",
    "\n",
    "x = cocktailDB.search(Drink.genericComponent.any(['bourbon']))\n",
    "print(len(x))\n",
    "\n",
    "for spec in x:\n",
    "    print(spec['name'])"
   ]
  },
  {
   "cell_type": "code",
   "execution_count": 51,
   "metadata": {},
   "outputs": [],
   "source": [
    "def drinks_by_spirit(spirit):          # Implicit global for the DB\n",
    "    l = cocktailDB.search(Drink.genericComponent.any([spirit]))\n",
    "    return [spec['name'] for spec in l] "
   ]
  },
  {
   "cell_type": "code",
   "execution_count": 52,
   "metadata": {},
   "outputs": [
    {
     "data": {
      "text/plain": [
       "['Suffering Bastard (1942)', 'Gimlet (Fresh)']"
      ]
     },
     "execution_count": 52,
     "metadata": {},
     "output_type": "execute_result"
    }
   ],
   "source": [
    "drinks_by_spirit('gin')"
   ]
  },
  {
   "cell_type": "code",
   "execution_count": 53,
   "metadata": {},
   "outputs": [
    {
     "data": {
      "text/plain": [
       "['Old Fashioned']"
      ]
     },
     "execution_count": 53,
     "metadata": {},
     "output_type": "execute_result"
    }
   ],
   "source": [
    "drinks_by_spirit('bourbon')"
   ]
  },
  {
   "cell_type": "code",
   "execution_count": 54,
   "metadata": {},
   "outputs": [
    {
     "data": {
      "text/plain": [
       "['Suffering Bastard (1942)']"
      ]
     },
     "execution_count": 54,
     "metadata": {},
     "output_type": "execute_result"
    }
   ],
   "source": [
    "drinks_by_spirit('brandy')"
   ]
  },
  {
   "cell_type": "code",
   "execution_count": null,
   "metadata": {},
   "outputs": [],
   "source": []
  }
 ],
 "metadata": {
  "kernelspec": {
   "display_name": "Python 3",
   "language": "python",
   "name": "python3"
  },
  "language_info": {
   "codemirror_mode": {
    "name": "ipython",
    "version": 3
   },
   "file_extension": ".py",
   "mimetype": "text/x-python",
   "name": "python",
   "nbconvert_exporter": "python",
   "pygments_lexer": "ipython3",
   "version": "3.7.6"
  }
 },
 "nbformat": 4,
 "nbformat_minor": 4
}
